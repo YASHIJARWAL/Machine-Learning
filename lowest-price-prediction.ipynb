{
 "cells": [
  {
   "cell_type": "code",
   "execution_count": 1,
   "metadata": {
    "_cell_guid": "b1076dfc-b9ad-4769-8c92-a6c4dae69d19",
    "_uuid": "8f2839f25d086af736a60e9eeb907d3b93b6e0e5"
   },
   "outputs": [],
   "source": [
    "# This Python 3 environment comes with many helpful analytics libraries installed\n",
    "# It is defined by the kaggle/python Docker image: https://github.com/kaggle/docker-python\n",
    "# For example, here's several helpful packages to load\n",
    "\n",
    "import numpy as np # linear algebra\n",
    "import pandas as pd # data processing, CSV file I/O (e.g. pd.read_csv)\n",
    "\n",
    "import os\n",
    "for dirname, _, filenames in os.walk('/kaggle/input'):\n",
    "    for filename in filenames:\n",
    "        print(os.path.join(dirname, filename))\n",
    "\n"
   ]
  },
  {
   "cell_type": "code",
   "execution_count": 2,
   "metadata": {
    "_cell_guid": "79c7e3d0-c299-4dcb-8224-4455121ee9b0",
    "_uuid": "d629ff2d2480ee46fbb7e2d37f6b5fab8052498a"
   },
   "outputs": [],
   "source": [
    "df_train= pd.read_csv(\"Train.csv\")\n",
    "df_test= pd.read_csv(\"Test.csv\")"
   ]
  },
  {
   "cell_type": "code",
   "execution_count": 3,
   "metadata": {},
   "outputs": [],
   "source": [
    "y_train=np.array(df_train['Low_Cap_Price'])\n",
    "id_test=np.array(df_test['Item_Id'])\n",
    "x_train=np.array(df_train.drop(['Item_Id', 'Date', 'Low_Cap_Price'], axis=1, index=None))\n",
    "x_test=np.array(df_test.drop(['Item_Id', 'Date'], axis=1, index=None))"
   ]
  },
  {
   "cell_type": "code",
   "execution_count": 4,
   "metadata": {},
   "outputs": [
    {
     "data": {
      "text/plain": [
       "RandomForestRegressor(n_estimators=5000, random_state=1)"
      ]
     },
     "execution_count": 4,
     "metadata": {},
     "output_type": "execute_result"
    }
   ],
   "source": [
    "from sklearn.ensemble import RandomForestRegressor \n",
    "\n",
    "rforest = RandomForestRegressor(n_estimators = 5000, random_state = 1) \n",
    "rforest.fit(x_train,y_train)"
   ]
  },
  {
   "cell_type": "code",
   "execution_count": 5,
   "metadata": {},
   "outputs": [],
   "source": [
    "y1_test= rforest.predict(x_test)"
   ]
  },
  {
   "cell_type": "code",
   "execution_count": 6,
   "metadata": {},
   "outputs": [
    {
     "name": "stdout",
     "output_type": "stream",
     "text": [
      "['IT_265079' 'IT_265087' 'IT_265107' ... 'IT_361699' 'IT_361719'\n",
      " 'IT_361723'] [3601.0144 2269.4194 6522.3038 ... 6838.4112 5376.7964 7512.5472]\n"
     ]
    }
   ],
   "source": [
    "print(id_test, y1_test)"
   ]
  },
  {
   "cell_type": "code",
   "execution_count": 9,
   "metadata": {},
   "outputs": [
    {
     "data": {
      "text/html": [
       "<div>\n",
       "<style scoped>\n",
       "    .dataframe tbody tr th:only-of-type {\n",
       "        vertical-align: middle;\n",
       "    }\n",
       "\n",
       "    .dataframe tbody tr th {\n",
       "        vertical-align: top;\n",
       "    }\n",
       "\n",
       "    .dataframe thead th {\n",
       "        text-align: right;\n",
       "    }\n",
       "</style>\n",
       "<table border=\"1\" class=\"dataframe\">\n",
       "  <thead>\n",
       "    <tr style=\"text-align: right;\">\n",
       "      <th></th>\n",
       "      <th>Unnamed: 0</th>\n",
       "      <th>Item_Id</th>\n",
       "      <th>Low_Cap_Price</th>\n",
       "    </tr>\n",
       "  </thead>\n",
       "  <tbody>\n",
       "    <tr>\n",
       "      <th>0</th>\n",
       "      <td>0</td>\n",
       "      <td>IT_265079</td>\n",
       "      <td>3601.0144</td>\n",
       "    </tr>\n",
       "    <tr>\n",
       "      <th>1</th>\n",
       "      <td>1</td>\n",
       "      <td>IT_265087</td>\n",
       "      <td>2269.4194</td>\n",
       "    </tr>\n",
       "    <tr>\n",
       "      <th>2</th>\n",
       "      <td>2</td>\n",
       "      <td>IT_265107</td>\n",
       "      <td>6522.3038</td>\n",
       "    </tr>\n",
       "    <tr>\n",
       "      <th>3</th>\n",
       "      <td>3</td>\n",
       "      <td>IT_265139</td>\n",
       "      <td>7149.9210</td>\n",
       "    </tr>\n",
       "    <tr>\n",
       "      <th>4</th>\n",
       "      <td>4</td>\n",
       "      <td>IT_265142</td>\n",
       "      <td>1795.1036</td>\n",
       "    </tr>\n",
       "    <tr>\n",
       "      <th>...</th>\n",
       "      <td>...</td>\n",
       "      <td>...</td>\n",
       "      <td>...</td>\n",
       "    </tr>\n",
       "    <tr>\n",
       "      <th>5758</th>\n",
       "      <td>5758</td>\n",
       "      <td>IT_361691</td>\n",
       "      <td>7130.6132</td>\n",
       "    </tr>\n",
       "    <tr>\n",
       "      <th>5759</th>\n",
       "      <td>5759</td>\n",
       "      <td>IT_361694</td>\n",
       "      <td>6368.6554</td>\n",
       "    </tr>\n",
       "    <tr>\n",
       "      <th>5760</th>\n",
       "      <td>5760</td>\n",
       "      <td>IT_361699</td>\n",
       "      <td>6838.4112</td>\n",
       "    </tr>\n",
       "    <tr>\n",
       "      <th>5761</th>\n",
       "      <td>5761</td>\n",
       "      <td>IT_361719</td>\n",
       "      <td>5376.7964</td>\n",
       "    </tr>\n",
       "    <tr>\n",
       "      <th>5762</th>\n",
       "      <td>5762</td>\n",
       "      <td>IT_361723</td>\n",
       "      <td>7512.5472</td>\n",
       "    </tr>\n",
       "  </tbody>\n",
       "</table>\n",
       "<p>5763 rows × 3 columns</p>\n",
       "</div>"
      ],
      "text/plain": [
       "      Unnamed: 0    Item_Id  Low_Cap_Price\n",
       "0              0  IT_265079      3601.0144\n",
       "1              1  IT_265087      2269.4194\n",
       "2              2  IT_265107      6522.3038\n",
       "3              3  IT_265139      7149.9210\n",
       "4              4  IT_265142      1795.1036\n",
       "...          ...        ...            ...\n",
       "5758        5758  IT_361691      7130.6132\n",
       "5759        5759  IT_361694      6368.6554\n",
       "5760        5760  IT_361699      6838.4112\n",
       "5761        5761  IT_361719      5376.7964\n",
       "5762        5762  IT_361723      7512.5472\n",
       "\n",
       "[5763 rows x 3 columns]"
      ]
     },
     "execution_count": 9,
     "metadata": {},
     "output_type": "execute_result"
    }
   ],
   "source": [
    "df3 = pd.DataFrame()\n",
    "df3['Item_Id'] = id_test.tolist()\n",
    "df3['Low_Cap_Price'] = y1_test.tolist()\n",
    "df3.to_csv(\"./file1.csv\", sep=',',index=True)\n",
    "df4=pd.read_csv(\"./file1.csv\")\n",
    "df4"
   ]
  }
 ],
 "metadata": {
  "kernelspec": {
   "display_name": "Python 3 (ipykernel)",
   "language": "python",
   "name": "python3"
  },
  "language_info": {
   "codemirror_mode": {
    "name": "ipython",
    "version": 3
   },
   "file_extension": ".py",
   "mimetype": "text/x-python",
   "name": "python",
   "nbconvert_exporter": "python",
   "pygments_lexer": "ipython3",
   "version": "3.9.7"
  }
 },
 "nbformat": 4,
 "nbformat_minor": 4
}
