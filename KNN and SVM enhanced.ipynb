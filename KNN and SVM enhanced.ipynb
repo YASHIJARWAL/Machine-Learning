{
 "cells": [
  {
   "cell_type": "code",
   "execution_count": 1,
   "id": "cb899e11",
   "metadata": {},
   "outputs": [],
   "source": [
    "import pandas as pd\n",
    "import numpy as np\n",
    "import seaborn as sns\n",
    "import matplotlib.pyplot as plt\n",
    "from sklearn.model_selection import train_test_split\n",
    "from sklearn.preprocessing import StandardScaler, LabelEncoder\n",
    "from sklearn.neighbors import KNeighborsClassifier\n",
    "from sklearn.svm import SVC\n",
    "from sklearn.metrics import confusion_matrix, accuracy_score\n",
    "import warnings\n",
    "warnings.filterwarnings('ignore')"
   ]
  },
  {
   "cell_type": "code",
   "execution_count": 2,
   "id": "7dda073d",
   "metadata": {},
   "outputs": [],
   "source": [
    "class ModelTraining:\n",
    "    def train(self, X_train, y_train):\n",
    "        raise NotImplementedError\n",
    "\n",
    "    def predict(self, X_test):\n",
    "        raise NotImplementedError\n",
    "\n",
    "    def evaluate(self, y_test, y_pred):\n",
    "        raise NotImplementedError\n",
    "\n",
    "\n"
   ]
  },
  {
   "cell_type": "code",
   "execution_count": 3,
   "id": "099c1e02",
   "metadata": {},
   "outputs": [],
   "source": [
    "class KNNModel(ModelTraining):\n",
    "    def __init__(self, n_neighbors=5, p=2):\n",
    "        self.classifier = KNeighborsClassifier(n_neighbors=n_neighbors, p=p)\n",
    "\n",
    "    def train(self, X_train, y_train):\n",
    "        self.classifier.fit(X_train, y_train)\n",
    "\n",
    "    def predict(self, X_test):\n",
    "        return self.classifier.predict(X_test)\n",
    "\n",
    "    def evaluate(self, y_test, y_pred):\n",
    "        cm = confusion_matrix(y_test, y_pred)\n",
    "        ac = accuracy_score(y_test, y_pred)\n",
    "        return cm, ac\n",
    "\n",
    "\n",
    "\n"
   ]
  },
  {
   "cell_type": "code",
   "execution_count": 4,
   "id": "c2173e7f",
   "metadata": {},
   "outputs": [],
   "source": [
    "class SVMModel(ModelTraining):\n",
    "    def __init__(self, kernel='rbf'):\n",
    "        self.classifier = SVC(kernel=kernel)\n",
    "\n",
    "    def train(self, X_train, y_train):\n",
    "        self.classifier.fit(X_train, y_train)\n",
    "\n",
    "    def predict(self, X_test):\n",
    "        return self.classifier.predict(X_test)\n",
    "\n",
    "    def evaluate(self, y_test, y_pred):\n",
    "        accuracy = accuracy_score(y_test, y_pred)\n",
    "        return accuracy\n",
    "\n",
    "\n",
    "\n"
   ]
  },
  {
   "cell_type": "code",
   "execution_count": 6,
   "id": "59619a70",
   "metadata": {},
   "outputs": [],
   "source": [
    "class DataPreprocessing:\n",
    "    def __init__(self, dataset):\n",
    "        self.dataset = dataset\n",
    "\n",
    "    def handle_missing_data(self, columns, strategy='mean'):\n",
    "        for column in columns:\n",
    "            if strategy == 'mean':\n",
    "                mean_value = self.dataset[column].mean()\n",
    "                self.dataset[column] = self.dataset[column].fillna(mean_value)\n",
    "        return self.dataset\n",
    "\n",
    "    def feature_scaling(self, X_train, X_test):\n",
    "        scaler = StandardScaler()\n",
    "        X_train = scaler.fit_transform(X_train)\n",
    "        X_test = scaler.transform(X_test)\n",
    "        return X_train, X_test\n",
    "\n",
    "\n"
   ]
  },
  {
   "cell_type": "code",
   "execution_count": 7,
   "id": "6637c9e4",
   "metadata": {},
   "outputs": [],
   "source": [
    "class Plotting:\n",
    "    @staticmethod\n",
    "    def scatter_plot(X, Y, xlabel, ylabel, title):\n",
    "        plt.figure(figsize=(10, 6))\n",
    "        plt.scatter(X[Y == 0, 1], X[Y == 0, 0], color='red', label='Not Purchased')\n",
    "        plt.scatter(X[Y == 1, 1], X[Y == 1, 0], color='green', label='Purchased')\n",
    "        plt.xlabel(xlabel)\n",
    "        plt.ylabel(ylabel)\n",
    "        plt.title(title)\n",
    "        plt.legend()\n",
    "        plt.grid(True)\n",
    "        plt.show()\n",
    "\n",
    "    @staticmethod\n",
    "    def box_plot(df, columns):\n",
    "        plt.figure(figsize=(24, 20))\n",
    "        for i, column in enumerate(columns, 1):\n",
    "            plt.subplot(4, 2, i)\n",
    "            df.boxplot(column=column)\n",
    "            plt.ylabel(column)\n",
    "        plt.show()\n",
    "\n"
   ]
  },
  {
   "cell_type": "code",
   "execution_count": 8,
   "id": "b529af10",
   "metadata": {},
   "outputs": [],
   "source": [
    "class MainExecution:\n",
    "    def __init__(self, model, dataset, features, target):\n",
    "        self.model = model\n",
    "        self.dataset = dataset\n",
    "        self.features = features\n",
    "        self.target = target\n",
    "\n",
    "    def execute(self):\n",
    "        # Splitting the dataset into the Training set and Test set\n",
    "        X = self.dataset[self.features].values\n",
    "        Y = self.dataset[self.target].values\n",
    "        X_train, X_test, y_train, y_test = train_test_split(X, Y, test_size=0.60, random_state=0)\n",
    "\n",
    "        # Feature Scaling\n",
    "        preprocessing = DataPreprocessing(self.dataset)\n",
    "        X_train, X_test = preprocessing.feature_scaling(X_train, X_test)\n",
    "\n",
    "        # Training the model\n",
    "        self.model.train(X_train, y_train)\n",
    "\n",
    "        # Predicting the Test set results\n",
    "        y_pred = self.model.predict(X_test)\n",
    "\n",
    "        # Evaluating the results\n",
    "        return self.model.evaluate(y_test, y_pred)\n",
    "\n",
    "\n"
   ]
  },
  {
   "cell_type": "code",
   "execution_count": 9,
   "id": "962370f9",
   "metadata": {},
   "outputs": [
    {
     "name": "stdout",
     "output_type": "stream",
     "text": [
      "KNN Confusion Matrix:\n",
      " [[137  10]\n",
      " [ 22  71]]\n",
      "KNN Accuracy: 0.8666666666666667\n"
     ]
    }
   ],
   "source": [
    "# Running the KNN Model\n",
    "knn_dataset = pd.read_csv('knn_data.csv')\n",
    "label_encoder = LabelEncoder()\n",
    "# Fit and transform the 'gender' column\n",
    "knn_dataset['Gender'] = label_encoder.fit_transform(knn_dataset['Gender'])\n",
    "knn_execution = MainExecution(\n",
    "    model=KNNModel(n_neighbors=5, p=2),\n",
    "    dataset=knn_dataset,\n",
    "    features=['Age', 'Gender', 'EstimatedSalary'],\n",
    "    target='Purchased'  # Single target column name\n",
    ")\n",
    "knn_cm, knn_accuracy = knn_execution.execute()\n",
    "print(\"KNN Confusion Matrix:\\n\", knn_cm)\n",
    "print(\"KNN Accuracy:\", knn_accuracy)\n",
    "\n",
    "\n",
    "\n"
   ]
  },
  {
   "cell_type": "code",
   "execution_count": 10,
   "id": "d051f0f3",
   "metadata": {},
   "outputs": [
    {
     "name": "stdout",
     "output_type": "stream",
     "text": [
      "SVM Accuracy: 0.9768524677397898\n"
     ]
    }
   ],
   "source": [
    "# Running the SVM Model\n",
    "svm_dataset = pd.read_csv('svm_data.csv')\n",
    "svm_dataset.columns = ['IP Mean', 'IP Sd', 'IP Kurtosis', 'IP Skewness', \n",
    "                       'DM-SNR Mean', 'DM-SNR Sd', 'DM-SNR Kurtosis', 'DM-SNR Skewness', 'target_class']\n",
    "\n",
    "# Handle missing data\n",
    "preprocessing = DataPreprocessing(svm_dataset)\n",
    "svm_dataset = preprocessing.handle_missing_data(\n",
    "    columns=['IP Mean', 'IP Sd', 'IP Kurtosis', 'IP Skewness', \n",
    "             'DM-SNR Mean', 'DM-SNR Sd', 'DM-SNR Kurtosis', 'DM-SNR Skewness']\n",
    ")\n",
    "\n",
    "# Define the feature columns and target column\n",
    "features = svm_dataset.drop(['target_class'], axis=1)\n",
    "target = 'target_class'\n",
    "\n",
    "svm_execution = MainExecution(\n",
    "    model=SVMModel(kernel='rbf'),\n",
    "    dataset=svm_dataset,\n",
    "    features=features.columns.tolist(),  # Convert DataFrame columns to list\n",
    "    target=target  # Single target column name\n",
    ")\n",
    "\n",
    "# Execute the SVM model and print accuracy\n",
    "svm_accuracy = svm_execution.execute()\n",
    "print(\"SVM Accuracy:\", svm_accuracy)"
   ]
  },
  {
   "cell_type": "code",
   "execution_count": null,
   "id": "c61b3b24",
   "metadata": {},
   "outputs": [],
   "source": []
  },
  {
   "cell_type": "code",
   "execution_count": null,
   "id": "a7a99423",
   "metadata": {},
   "outputs": [],
   "source": []
  },
  {
   "cell_type": "code",
   "execution_count": null,
   "id": "dde72225",
   "metadata": {},
   "outputs": [],
   "source": []
  },
  {
   "cell_type": "code",
   "execution_count": null,
   "id": "2ae9a1f1",
   "metadata": {},
   "outputs": [],
   "source": []
  },
  {
   "cell_type": "code",
   "execution_count": null,
   "id": "a6d586d8",
   "metadata": {},
   "outputs": [],
   "source": []
  },
  {
   "cell_type": "code",
   "execution_count": null,
   "id": "a4da2d9f",
   "metadata": {},
   "outputs": [],
   "source": []
  },
  {
   "cell_type": "code",
   "execution_count": null,
   "id": "df598f1f",
   "metadata": {},
   "outputs": [],
   "source": []
  },
  {
   "cell_type": "code",
   "execution_count": null,
   "id": "8de73ad6",
   "metadata": {},
   "outputs": [],
   "source": []
  },
  {
   "cell_type": "code",
   "execution_count": null,
   "id": "17b919de",
   "metadata": {},
   "outputs": [],
   "source": []
  },
  {
   "cell_type": "code",
   "execution_count": null,
   "id": "83b7b77c",
   "metadata": {},
   "outputs": [],
   "source": []
  }
 ],
 "metadata": {
  "kernelspec": {
   "display_name": "Python 3 (ipykernel)",
   "language": "python",
   "name": "python3"
  },
  "language_info": {
   "codemirror_mode": {
    "name": "ipython",
    "version": 3
   },
   "file_extension": ".py",
   "mimetype": "text/x-python",
   "name": "python",
   "nbconvert_exporter": "python",
   "pygments_lexer": "ipython3",
   "version": "3.9.7"
  }
 },
 "nbformat": 4,
 "nbformat_minor": 5
}
